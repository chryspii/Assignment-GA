{
 "cells": [
  {
   "cell_type": "code",
   "execution_count": 1,
   "metadata": {},
   "outputs": [],
   "source": [
    "import numpy as np\n",
    "import math\n",
    "import random"
   ]
  },
  {
   "cell_type": "code",
   "execution_count": 2,
   "metadata": {},
   "outputs": [],
   "source": [
    "# Function to Generate First Population\n",
    "def initialization(length):\n",
    "    chromosome = []\n",
    "    for j in range(length):\n",
    "        chromosome.append(round(np.random.uniform(0, 1)))\n",
    "    return chromosome"
   ]
  },
  {
   "cell_type": "code",
   "execution_count": 3,
   "metadata": {},
   "outputs": [],
   "source": [
    "# Function to calculate real value from binary value\n",
    "def binaryToReal(chromosome, low, high, pos):\n",
    "    var = []\n",
    "    n = 0\n",
    "    for i in range(len(pos)):\n",
    "        temp = []\n",
    "        total = 0\n",
    "        if i == 0:\n",
    "            for j in range(0, pos[i]):\n",
    "                total = total + (int(chromosome[j]) * (2 ** (pos[i] - j - 1)))\n",
    "            # x = const_min + x' * (const_length / (2^chromosome_length - 1))\n",
    "            total = round(low[i] + total * ((high[i] - low[i]) / (2 ** pos[i] - 1)), 3)\n",
    "            temp.append(total)\n",
    "        else:\n",
    "            for j in range(0, pos[i]):\n",
    "                total = total + (int(chromosome[(pos[n] + j)]) * (2 ** (pos[i] - j - 1)))\n",
    "            # y = const_min + y' * (const_length / (2^chromosome_length - 1))\n",
    "            total = round(low[i] + total * ((high[i] - low[i]) / (2 ** (pos[i]) - 1)), 3)\n",
    "            temp.append(total)\n",
    "        n = i        \n",
    "        var.append(temp)\n",
    "    return var"
   ]
  },
  {
   "cell_type": "code",
   "execution_count": 4,
   "metadata": {},
   "outputs": [],
   "source": [
    "# Function to check if chromosome out of contraint (x + y >= 1)\n",
    "def constraint(x, y):\n",
    "    total = x + y\n",
    "    \n",
    "    if total < 1:\n",
    "        return False\n",
    "    else:\n",
    "        return True"
   ]
  },
  {
   "cell_type": "code",
   "execution_count": 5,
   "metadata": {},
   "outputs": [],
   "source": [
    "# Function to calculate fitness\n",
    "def fitness(x, y):\n",
    "    f = round(math.cos((x - 1.14) ** 3) - 100000 * (y ** 2 - x) ** 2, 3)\n",
    "    return f"
   ]
  },
  {
   "cell_type": "code",
   "execution_count": 17,
   "metadata": {},
   "outputs": [],
   "source": [
    "# Function to find parent using Tournament Selection\n",
    "def selection(fitness, population):\n",
    "    size = len(population)\n",
    "    \n",
    "    parent_1_a = random.randint(0, size-1)\n",
    "    parent_1_b = random.randint(0, size-1)\n",
    "    \n",
    "    parent_1_a_fitness = fitness[parent_1_a]\n",
    "    parent_1_b_fitness = fitness[parent_1_b]\n",
    "    \n",
    "    # find winner for parent 1\n",
    "    if parent_1_a_fitness >= parent_1_b_fitness:\n",
    "        parent_1_winner = parent_1_a\n",
    "    else:\n",
    "        parent_1_winner = parent_1_b\n",
    "        \n",
    "    parent_2_a = random.randint(0, size-1)\n",
    "    parent_2_b = random.randint(0, size-1)\n",
    "    \n",
    "    parent_2_a_fitness = fitness[parent_2_a]\n",
    "    parent_2_b_fitness = fitness[parent_2_b]\n",
    "    \n",
    "    # find winner for parent 2\n",
    "    if parent_2_a_fitness >= parent_2_b_fitness:\n",
    "        parent_2_winner = parent_2_a\n",
    "    else:\n",
    "        parent_2_winner = parent_2_b\n",
    "    \n",
    "    # make sure parent cannot be the same\n",
    "    if parent_1_winner == parent_2_winner:\n",
    "        return selection(fitness, population)\n",
    "    else:\n",
    "        return population[parent_1_winner], population[parent_2_winner] "
   ]
  },
  {
   "cell_type": "code",
   "execution_count": 7,
   "metadata": {},
   "outputs": [],
   "source": [
    "# Function to crossover the parents using Uniform Crossover\n",
    "def crossover(parent_1, parent_2):\n",
    "    mask = []\n",
    "    offspring_1 = []\n",
    "    offspring_2 = []\n",
    "    \n",
    "    rand = np.random.uniform(0, 1)\n",
    "    \n",
    "    # check if crossover rate is larger than random value than do crossover\n",
    "    if rand < crossover_rate: \n",
    "        # create mask\n",
    "        for i in range(length):\n",
    "            mask.append(round(np.random.uniform(0, 1)))\n",
    "\n",
    "        # change gene base on mask value\n",
    "        for i in range(length):\n",
    "            if mask[i] == 1:\n",
    "                offspring_1.append(parent_2[i])\n",
    "                offspring_2.append(parent_1[i])\n",
    "            elif mask[i] == 0:\n",
    "                offspring_1.append(parent_1[i])\n",
    "                offspring_2.append(parent_2[i])\n",
    "\n",
    "        return [offspring_1, offspring_2]\n",
    "    else:\n",
    "        return [parent_1, parent_2]"
   ]
  },
  {
   "cell_type": "code",
   "execution_count": 21,
   "metadata": {},
   "outputs": [],
   "source": [
    "# Function to mutate the parents using Chromosome-wise Mutation\n",
    "def mutation(offspring_1, offspring_2):\n",
    "    rand_1 = np.random.uniform(0, 1)\n",
    "    rand_2 = np.random.uniform(0, 1)\n",
    "    \n",
    "    result_1 = offspring_1\n",
    "    result_2 = offspring_2\n",
    "    \n",
    "    if rand_1 < crossover_rate:\n",
    "        pos = random.randint(0, length-1)\n",
    "        offspring_1[pos] = 1 - offspring_1[pos]\n",
    "        result_1 = offspring_1\n",
    "    \n",
    "    if rand_2 < crossover_rate:\n",
    "        pos = random.randint(0, length-1)\n",
    "        offspring_2[pos] = 1 - offspring_2[pos]\n",
    "        result_2 = offspring_2\n",
    "\n",
    "    return result_1, result_2"
   ]
  },
  {
   "cell_type": "code",
   "execution_count": 24,
   "metadata": {},
   "outputs": [],
   "source": [
    "# initial parameters\n",
    "length = 23\n",
    "length_population = 100\n",
    "crossover_rate = 0.9\n",
    "mutation_rate = 0.2\n",
    "generation = 500\n",
    "\n",
    "# first population generation\n",
    "population = []\n",
    "fitnesses = []\n",
    "counter_population = 0\n",
    "while counter_population < length_population:\n",
    "    chromosome = initialization(length)\n",
    "    x, y = binaryToReal(chromosome, [0, 0], [2, 3], [11, 12])\n",
    "    # calculate fitness\n",
    "    fit = fitness(x[0], y[0]) \n",
    "    evals = constraint(x[0], y[0])\n",
    "    # check if chromosome is inside constraints\n",
    "    if evals:\n",
    "        population.append(chromosome)\n",
    "        fitnesses.append(fit)\n",
    "        counter_population = counter_population + 1"
   ]
  },
  {
   "cell_type": "code",
   "execution_count": 25,
   "metadata": {},
   "outputs": [
    {
     "name": "stdout",
     "output_type": "stream",
     "text": [
      "Best solution:\n",
      "x: 0.958  ||  y: 0.979  => 0.981\n"
     ]
    }
   ],
   "source": [
    "# next population generation\n",
    "score = []\n",
    "for n in range(generation):\n",
    "    # parent selection\n",
    "    parent_1, parent_2 = selection(fitnesses, population)\n",
    "        \n",
    "    # crossover\n",
    "    offspring_1, offspring_2 = crossover(parent_1, parent_2)\n",
    "    \n",
    "    # mutation\n",
    "    offspring_1, offspring_2 = mutation(offspring_1, offspring_2)\n",
    "    x_1, y_1 = binaryToReal(offspring_1, [0, 0], [2, 3], [11, 12])\n",
    "    fit_1 = fitness(x_1[0], y_1[0])\n",
    "\n",
    "    x_2, y_2 = binaryToReal(offspring_2, [0, 0], [2, 3], [11, 12])\n",
    "    fit_2 = fitness(x_2[0], y_2[0])\n",
    "    \n",
    "    # replace chromosomes with lowest fitness with higher fitness\n",
    "    fitnesses.append(fit_1)\n",
    "    fitnesses.append(fit_2)\n",
    "    population.append(offspring_1)\n",
    "    population.append(offspring_2)\n",
    "    fitnesses, population = zip(*sorted(zip(fitnesses, population), reverse=True))\n",
    "    \n",
    "    population = list(population[:len(population) -2])\n",
    "    fitnesses = list(fitnesses[:len(fitnesses)-2])\n",
    "    score.append(np.amax(np.array(fitnesses)))\n",
    "    \n",
    "best_x, best_y = binaryToReal(population[0], [0, 0], [2, 3], [11, 12])\n",
    "print(\"Best solution:\")\n",
    "print(\"x: %.3f  ||  y: %.3f  => %.3f\" % (best_x[0], best_y[0], fitnesses[0]))"
   ]
  },
  {
   "cell_type": "code",
   "execution_count": 26,
   "metadata": {},
   "outputs": [
    {
     "data": {
      "image/png": "[encoded data removed]",
      "text/plain": [
       "<Figure size 432x288 with 1 Axes>"
      ]
     },
     "metadata": {
      "needs_background": "light"
     },
     "output_type": "display_data"
    }
   ],
   "source": [
    "import matplotlib.pyplot as plt\n",
    "%matplotlib inline\n",
    "plt.plot(score)\n",
    "plt.xlabel('Generation')\n",
    "plt.ylabel('Best score (% target)')\n",
    "plt.show()"
   ]
  }
 ],
 "metadata": {
  "kernelspec": {
   "display_name": "Python 3",
   "language": "python",
   "name": "python3"
  },
  "language_info": {
   "codemirror_mode": {
    "name": "ipython",
    "version": 3
   },
   "file_extension": ".py",
   "mimetype": "text/x-python",
   "name": "python",
   "nbconvert_exporter": "python",
   "pygments_lexer": "ipython3",
   "version": "3.7.1"
  }
 },
 "nbformat": 4,
 "nbformat_minor": 2
}
